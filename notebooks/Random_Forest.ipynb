{
 "cells": [
  {
   "cell_type": "code",
   "execution_count": 3,
   "id": "eaa7b055-4ad7-4c41-9ab5-052bac5adacf",
   "metadata": {},
   "outputs": [
    {
     "name": "stderr",
     "output_type": "stream",
     "text": [
      "/var/folders/m8/6zt09fhx313d5dk_d202076m0000gn/T/ipykernel_51093/2534520098.py:3: DtypeWarning: Columns (3) have mixed types. Specify dtype option on import or set low_memory=False.\n",
      "  df = pd.read_csv('final_balanced.csv')\n"
     ]
    },
    {
     "data": {
      "text/html": [
       "<div>\n",
       "<style scoped>\n",
       "    .dataframe tbody tr th:only-of-type {\n",
       "        vertical-align: middle;\n",
       "    }\n",
       "\n",
       "    .dataframe tbody tr th {\n",
       "        vertical-align: top;\n",
       "    }\n",
       "\n",
       "    .dataframe thead th {\n",
       "        text-align: right;\n",
       "    }\n",
       "</style>\n",
       "<table border=\"1\" class=\"dataframe\">\n",
       "  <thead>\n",
       "    <tr style=\"text-align: right;\">\n",
       "      <th></th>\n",
       "      <th>crash_date</th>\n",
       "      <th>crash_time</th>\n",
       "      <th>collision_id</th>\n",
       "      <th>borough_traffic</th>\n",
       "      <th>weather_borough</th>\n",
       "      <th>tavg</th>\n",
       "      <th>tmin</th>\n",
       "      <th>tmax</th>\n",
       "      <th>prcp</th>\n",
       "      <th>snow</th>\n",
       "      <th>...</th>\n",
       "      <th>nearest_intersection_name</th>\n",
       "      <th>nearest_intersection_lat</th>\n",
       "      <th>nearest_intersection_lon</th>\n",
       "      <th>nearest_intersection_x_ny</th>\n",
       "      <th>nearest_intersection_y_ny</th>\n",
       "      <th>distance_to_intersection_km</th>\n",
       "      <th>is_crash</th>\n",
       "      <th>day_of_week</th>\n",
       "      <th>month</th>\n",
       "      <th>is_weekend</th>\n",
       "    </tr>\n",
       "  </thead>\n",
       "  <tbody>\n",
       "    <tr>\n",
       "      <th>0</th>\n",
       "      <td>2023-11-01</td>\n",
       "      <td>1:29</td>\n",
       "      <td>4675373.0</td>\n",
       "      <td>BROOKLYN</td>\n",
       "      <td>Brooklyn</td>\n",
       "      <td>8.9</td>\n",
       "      <td>3.9</td>\n",
       "      <td>11.1</td>\n",
       "      <td>0.0</td>\n",
       "      <td>0.0</td>\n",
       "      <td>...</td>\n",
       "      <td>AVE K &amp;  OCEAN PKWY</td>\n",
       "      <td>40.621792</td>\n",
       "      <td>-73.970019</td>\n",
       "      <td>9.925730e+05</td>\n",
       "      <td>165813.570502</td>\n",
       "      <td>8.269925e-08</td>\n",
       "      <td>1</td>\n",
       "      <td>2</td>\n",
       "      <td>11</td>\n",
       "      <td>0</td>\n",
       "    </tr>\n",
       "    <tr>\n",
       "      <th>1</th>\n",
       "      <td>2021-09-11</td>\n",
       "      <td>9:35</td>\n",
       "      <td>4456314.0</td>\n",
       "      <td>BROOKLYN</td>\n",
       "      <td>Brooklyn</td>\n",
       "      <td>21.1</td>\n",
       "      <td>13.9</td>\n",
       "      <td>27.2</td>\n",
       "      <td>0.0</td>\n",
       "      <td>0.0</td>\n",
       "      <td>...</td>\n",
       "      <td>AUTUMN AVE &amp;  LORING AVE</td>\n",
       "      <td>40.667256</td>\n",
       "      <td>-73.866074</td>\n",
       "      <td>1.021403e+06</td>\n",
       "      <td>182404.308244</td>\n",
       "      <td>5.714103e-06</td>\n",
       "      <td>1</td>\n",
       "      <td>5</td>\n",
       "      <td>9</td>\n",
       "      <td>1</td>\n",
       "    </tr>\n",
       "    <tr>\n",
       "      <th>2</th>\n",
       "      <td>2021-12-14</td>\n",
       "      <td>8:13</td>\n",
       "      <td>4486609.0</td>\n",
       "      <td>BROOKLYN</td>\n",
       "      <td>Brooklyn</td>\n",
       "      <td>8.7</td>\n",
       "      <td>3.3</td>\n",
       "      <td>13.3</td>\n",
       "      <td>0.0</td>\n",
       "      <td>0.0</td>\n",
       "      <td>...</td>\n",
       "      <td>DECATUR ST &amp;  DISTRICT BOUNDARY &amp;  SARATOGA AVE</td>\n",
       "      <td>40.683303</td>\n",
       "      <td>-73.917266</td>\n",
       "      <td>1.007196e+06</td>\n",
       "      <td>188233.049282</td>\n",
       "      <td>1.024554e-07</td>\n",
       "      <td>1</td>\n",
       "      <td>1</td>\n",
       "      <td>12</td>\n",
       "      <td>0</td>\n",
       "    </tr>\n",
       "    <tr>\n",
       "      <th>3</th>\n",
       "      <td>2021-12-14</td>\n",
       "      <td>17:05</td>\n",
       "      <td>4486555.0</td>\n",
       "      <td>NaN</td>\n",
       "      <td>Brooklyn</td>\n",
       "      <td>8.7</td>\n",
       "      <td>3.3</td>\n",
       "      <td>13.3</td>\n",
       "      <td>0.0</td>\n",
       "      <td>0.0</td>\n",
       "      <td>...</td>\n",
       "      <td>BROOKLYN QUEENS EXPY &amp;  S 5 ST</td>\n",
       "      <td>40.708876</td>\n",
       "      <td>-73.956891</td>\n",
       "      <td>9.962017e+05</td>\n",
       "      <td>197541.964310</td>\n",
       "      <td>5.433776e-06</td>\n",
       "      <td>1</td>\n",
       "      <td>1</td>\n",
       "      <td>12</td>\n",
       "      <td>0</td>\n",
       "    </tr>\n",
       "    <tr>\n",
       "      <th>4</th>\n",
       "      <td>2021-12-14</td>\n",
       "      <td>8:17</td>\n",
       "      <td>4486660.0</td>\n",
       "      <td>BRONX</td>\n",
       "      <td>Bronx</td>\n",
       "      <td>8.5</td>\n",
       "      <td>3.2</td>\n",
       "      <td>12.0</td>\n",
       "      <td>0.0</td>\n",
       "      <td>0.0</td>\n",
       "      <td>...</td>\n",
       "      <td>BARTOW AVE &amp;  BAYCHESTER AVE</td>\n",
       "      <td>40.868771</td>\n",
       "      <td>-73.831733</td>\n",
       "      <td>1.030789e+06</td>\n",
       "      <td>255839.112209</td>\n",
       "      <td>1.117401e-05</td>\n",
       "      <td>1</td>\n",
       "      <td>1</td>\n",
       "      <td>12</td>\n",
       "      <td>0</td>\n",
       "    </tr>\n",
       "  </tbody>\n",
       "</table>\n",
       "<p>5 rows × 27 columns</p>\n",
       "</div>"
      ],
      "text/plain": [
       "   crash_date crash_time  collision_id borough_traffic weather_borough  tavg  \\\n",
       "0  2023-11-01       1:29     4675373.0        BROOKLYN        Brooklyn   8.9   \n",
       "1  2021-09-11       9:35     4456314.0        BROOKLYN        Brooklyn  21.1   \n",
       "2  2021-12-14       8:13     4486609.0        BROOKLYN        Brooklyn   8.7   \n",
       "3  2021-12-14      17:05     4486555.0             NaN        Brooklyn   8.7   \n",
       "4  2021-12-14       8:17     4486660.0           BRONX           Bronx   8.5   \n",
       "\n",
       "   tmin  tmax  prcp  snow  ...  \\\n",
       "0   3.9  11.1   0.0   0.0  ...   \n",
       "1  13.9  27.2   0.0   0.0  ...   \n",
       "2   3.3  13.3   0.0   0.0  ...   \n",
       "3   3.3  13.3   0.0   0.0  ...   \n",
       "4   3.2  12.0   0.0   0.0  ...   \n",
       "\n",
       "                          nearest_intersection_name  nearest_intersection_lat  \\\n",
       "0                               AVE K &  OCEAN PKWY                 40.621792   \n",
       "1                          AUTUMN AVE &  LORING AVE                 40.667256   \n",
       "2   DECATUR ST &  DISTRICT BOUNDARY &  SARATOGA AVE                 40.683303   \n",
       "3                    BROOKLYN QUEENS EXPY &  S 5 ST                 40.708876   \n",
       "4                      BARTOW AVE &  BAYCHESTER AVE                 40.868771   \n",
       "\n",
       "   nearest_intersection_lon nearest_intersection_x_ny  \\\n",
       "0                -73.970019              9.925730e+05   \n",
       "1                -73.866074              1.021403e+06   \n",
       "2                -73.917266              1.007196e+06   \n",
       "3                -73.956891              9.962017e+05   \n",
       "4                -73.831733              1.030789e+06   \n",
       "\n",
       "   nearest_intersection_y_ny  distance_to_intersection_km  is_crash  \\\n",
       "0              165813.570502                 8.269925e-08         1   \n",
       "1              182404.308244                 5.714103e-06         1   \n",
       "2              188233.049282                 1.024554e-07         1   \n",
       "3              197541.964310                 5.433776e-06         1   \n",
       "4              255839.112209                 1.117401e-05         1   \n",
       "\n",
       "  day_of_week  month  is_weekend  \n",
       "0           2     11           0  \n",
       "1           5      9           1  \n",
       "2           1     12           0  \n",
       "3           1     12           0  \n",
       "4           1     12           0  \n",
       "\n",
       "[5 rows x 27 columns]"
      ]
     },
     "execution_count": 3,
     "metadata": {},
     "output_type": "execute_result"
    }
   ],
   "source": [
    "import pandas as pd\n",
    "\n",
    "df = pd.read_csv('final_balanced.csv')\n",
    "\n",
    "df.head()\n"
   ]
  },
  {
   "cell_type": "code",
   "execution_count": 17,
   "id": "4255cd33-25be-4b1a-a48b-0c5ed122cff2",
   "metadata": {},
   "outputs": [],
   "source": [
    "import numpy as np\n",
    "import pandas as pd\n",
    "from sklearn.model_selection import train_test_split\n",
    "from sklearn.preprocessing import OneHotEncoder\n",
    "from sklearn.ensemble import RandomForestClassifier\n",
    "from sklearn.metrics import roc_auc_score\n",
    "import matplotlib.pyplot as plt"
   ]
  },
  {
   "cell_type": "code",
   "execution_count": 18,
   "id": "eeff1309-ea2e-4fbc-9e9b-81ec09fbced6",
   "metadata": {},
   "outputs": [],
   "source": [
    "RANDOM_SEED = 1\n",
    "np.random.seed(RANDOM_SEED)"
   ]
  },
  {
   "cell_type": "markdown",
   "id": "8f9e6c6a-6c93-499a-bdd7-711d864e5931",
   "metadata": {},
   "source": [
    "### Feature Engineering - Extract Hour"
   ]
  },
  {
   "cell_type": "code",
   "execution_count": 19,
   "id": "100c664c-ca1c-42e1-9c57-ec90e7ec58eb",
   "metadata": {},
   "outputs": [],
   "source": [
    "# Convert crash_time to hour\n",
    "df[\"hour\"] = pd.to_datetime(df[\"crash_time\"], format=\"%H:%M\").dt.hour"
   ]
  },
  {
   "cell_type": "markdown",
   "id": "f25a076d-e6ca-45e2-8e4f-f033e4e86b94",
   "metadata": {},
   "source": [
    "### Define numeric columns and categorical columns"
   ]
  },
  {
   "cell_type": "code",
   "execution_count": 21,
   "id": "91240d03-2b1c-4dd4-8ff3-73cf529feab7",
   "metadata": {},
   "outputs": [],
   "source": [
    "num_cols = [\n",
    "    \"hour\",\n",
    "    \"day_of_week\", \"month\", \"is_weekend\",\n",
    "    \"tavg\", \"tmin\", \"tmax\", \"prcp\", \"snow\",\n",
    "    \"wdir\", \"wspd\", \"pres\",\n",
    "    \"nearest_intersection_lat\", \"nearest_intersection_lon\",\n",
    "    \"distance_to_intersection_km\"\n",
    "]\n",
    "\n",
    "cat_cols = [\"weather_borough\"]\n"
   ]
  },
  {
   "cell_type": "markdown",
   "id": "298cf876-66b4-4bcd-bab5-6d21d3dfd576",
   "metadata": {},
   "source": [
    "### Extract target variable (y)"
   ]
  },
  {
   "cell_type": "code",
   "execution_count": 22,
   "id": "2259f3e8-668a-4151-9129-aa577632136a",
   "metadata": {},
   "outputs": [],
   "source": [
    "y = df[\"is_crash\"].astype(int)"
   ]
  },
  {
   "cell_type": "markdown",
   "id": "c9da9488-242f-42af-9ad0-615c52a15fa2",
   "metadata": {},
   "source": [
    "### One-Hot Enconde Categorical Columns"
   ]
  },
  {
   "cell_type": "code",
   "execution_count": 25,
   "id": "80da6053-a24f-4e86-833d-ac3acf1cd01a",
   "metadata": {},
   "outputs": [
    {
     "data": {
      "text/plain": [
       "array(['weather_borough_Bronx', 'weather_borough_Brooklyn',\n",
       "       'weather_borough_Manhattan', 'weather_borough_Queens',\n",
       "       'weather_borough_Staten Island'], dtype=object)"
      ]
     },
     "execution_count": 25,
     "metadata": {},
     "output_type": "execute_result"
    }
   ],
   "source": [
    "ohe = OneHotEncoder(sparse_output=False, handle_unknown=\"ignore\")\n",
    "X_cat = ohe.fit_transform(df[cat_cols])\n",
    "\n",
    "# Get the new feature names after encoding\n",
    "cat_feature_names = ohe.get_feature_names_out(cat_cols)\n",
    "cat_feature_names"
   ]
  },
  {
   "cell_type": "code",
   "execution_count": 26,
   "id": "36284ce5-307a-4ecb-8963-c92ba0734fa8",
   "metadata": {},
   "outputs": [],
   "source": [
    "# Numeric features\n",
    "X_num = df[num_cols].to_numpy()\n",
    "\n",
    "# Combine numeric and one-hot encoded features\n",
    "X = np.hstack([X_num, X_cat])\n",
    "\n",
    "# Full feature name list\n",
    "feature_names = num_cols + list(cat_feature_names)\n"
   ]
  },
  {
   "cell_type": "code",
   "execution_count": 29,
   "id": "9cc14b81-5ac5-4ad6-9b02-f6a1dd157f6b",
   "metadata": {},
   "outputs": [
    {
     "data": {
      "text/plain": [
       "['hour',\n",
       " 'day_of_week',\n",
       " 'month',\n",
       " 'is_weekend',\n",
       " 'tavg',\n",
       " 'tmin',\n",
       " 'tmax',\n",
       " 'prcp',\n",
       " 'snow',\n",
       " 'wdir',\n",
       " 'wspd',\n",
       " 'pres',\n",
       " 'nearest_intersection_lat',\n",
       " 'nearest_intersection_lon',\n",
       " 'distance_to_intersection_km',\n",
       " 'weather_borough_Bronx',\n",
       " 'weather_borough_Brooklyn',\n",
       " 'weather_borough_Manhattan',\n",
       " 'weather_borough_Queens',\n",
       " 'weather_borough_Staten Island']"
      ]
     },
     "execution_count": 29,
     "metadata": {},
     "output_type": "execute_result"
    }
   ],
   "source": [
    "feature_names"
   ]
  },
  {
   "cell_type": "markdown",
   "id": "e68d6d85-2a38-45f6-8d01-44787504753d",
   "metadata": {},
   "source": [
    "## Train / Validation / Test"
   ]
  },
  {
   "cell_type": "code",
   "execution_count": 30,
   "id": "0232a1c4-5285-4414-82b2-e5b48905fa93",
   "metadata": {},
   "outputs": [
    {
     "name": "stdout",
     "output_type": "stream",
     "text": [
      "X_train: (2317560, 20)\n",
      "X_val:   (772521, 20)\n",
      "X_test:  (772521, 20)\n",
      "y_train: (2317560,)\n",
      "y_val:   (772521,)\n",
      "y_test:  (772521,)\n"
     ]
    }
   ],
   "source": [
    "from sklearn.model_selection import train_test_split\n",
    "\n",
    "# Hold out 20% as your final test set\n",
    "X_trainval, X_test, y_trainval, y_test = train_test_split(\n",
    "    X, y,\n",
    "    test_size=0.20,\n",
    "    stratify=y,\n",
    "    random_state=RANDOM_SEED\n",
    ")\n",
    "\n",
    "# Split the remaining 80% into train (60% total) and validation (20% total)\n",
    "X_train, X_val, y_train, y_val = train_test_split(\n",
    "    X_trainval, y_trainval,\n",
    "    test_size=0.25,             # 0.25 * 0.80 = 0.20 of original data\n",
    "    stratify=y_trainval,\n",
    "    random_state=RANDOM_SEED\n",
    ")\n",
    "\n",
    "print(\"X_train:\", X_train.shape)\n",
    "print(\"X_val:  \", X_val.shape)\n",
    "print(\"X_test: \", X_test.shape)\n",
    "print(\"y_train:\", y_train.shape)\n",
    "print(\"y_val:  \", y_val.shape)\n",
    "print(\"y_test: \", y_test.shape)\n"
   ]
  },
  {
   "cell_type": "code",
   "execution_count": 33,
   "id": "c9385771-18a0-4740-bd5b-1915f5d948cf",
   "metadata": {},
   "outputs": [
    {
     "name": "stdout",
     "output_type": "stream",
     "text": [
      "Validation AUC = 0.74345071976419\n",
      "Test AUC       = 0.7420783779080895\n"
     ]
    }
   ],
   "source": [
    "from sklearn.ensemble import RandomForestClassifier\n",
    "from sklearn.metrics import roc_auc_score\n",
    "\n",
    "# 5A) Instantiate the model\n",
    "rf_params = {\n",
    "    \"n_estimators\": 100,      # number of trees (like num_boost_round)\n",
    "    \"max_depth\": 6,           # limit tree depth to 6 splits\n",
    "    \"max_features\": \"sqrt\",   # consider √p features at each split\n",
    "    \"random_state\": RANDOM_SEED\n",
    "}\n",
    "\n",
    "# 2) Instantiate and train\n",
    "rf = RandomForestClassifier(**rf_params, n_jobs=-1)\n",
    "rf.fit(X_train, y_train)\n",
    "\n",
    "# 3) Evaluate AUC\n",
    "val_probs  = rf.predict_proba(X_val)[:, 1]\n",
    "test_probs = rf.predict_proba(X_test)[:, 1]\n",
    "print(\"Validation AUC =\", roc_auc_score(y_val,  val_probs))\n",
    "print(\"Test AUC       =\", roc_auc_score(y_test, test_probs))\n"
   ]
  },
  {
   "cell_type": "code",
   "execution_count": 34,
   "id": "8c2f6b11-2b9a-4262-858b-9f35d5004a3d",
   "metadata": {},
   "outputs": [
    {
     "name": "stdout",
     "output_type": "stream",
     "text": [
      "Validation AUC = 0.7647932885315311\n",
      "Test AUC       = 0.7635456087452193\n"
     ]
    }
   ],
   "source": [
    "rf_params2 = {\n",
    "    \"n_estimators\":    300,       # more trees\n",
    "    \"max_depth\":       10,        # deeper trees\n",
    "    \"max_features\":    \"sqrt\",    # keep feature randomness\n",
    "    \"min_samples_leaf\": 2,        # prevent tiny leaves\n",
    "    \"random_state\":    RANDOM_SEED\n",
    "}\n",
    "\n",
    "# 2) Train\n",
    "rf = RandomForestClassifier(**rf_params2, n_jobs=-1)\n",
    "rf.fit(X_train, y_train)\n",
    "\n",
    "# 3) Evaluate\n",
    "val_probs  = rf.predict_proba(X_val)[:, 1]\n",
    "test_probs = rf.predict_proba(X_test)[:, 1]\n",
    "print(\"Validation AUC =\", roc_auc_score(y_val,  val_probs))\n",
    "print(\"Test AUC       =\", roc_auc_score(y_test, test_probs))\n"
   ]
  },
  {
   "cell_type": "markdown",
   "id": "b3faa459-7887-4aa7-b979-133d71955217",
   "metadata": {},
   "source": [
    "### Now will use Randomized Search Cross-Validation"
   ]
  },
  {
   "cell_type": "code",
   "execution_count": null,
   "id": "aaa86d22-1f8b-46c0-bf6e-34d59bf2f631",
   "metadata": {},
   "outputs": [
    {
     "name": "stdout",
     "output_type": "stream",
     "text": [
      "Fitting 3 folds for each of 20 candidates, totalling 60 fits\n"
     ]
    }
   ],
   "source": [
    "from sklearn.model_selection import RandomizedSearchCV\n",
    "from scipy.stats import randint\n",
    "\n",
    "# 1) Define low‑range distributions\n",
    "param_dist = {\n",
    "    \"n_estimators\":    randint(50, 200),    # between 50 and 200 trees\n",
    "    \"max_depth\":       randint(3, 10),      # depths 3–10\n",
    "    \"min_samples_leaf\":randint(1, 5),       # 1–5 samples per leaf\n",
    "    \"max_features\":    [\"sqrt\", \"log2\"]     # √p or log2(p)\n",
    "}\n",
    "\n",
    "# 2) Set up RandomizedSearchCV\n",
    "rand_search = RandomizedSearchCV(\n",
    "    estimator=RandomForestClassifier(\n",
    "        random_state=RANDOM_SEED,\n",
    "        n_jobs=-1\n",
    "    ),\n",
    "    param_distributions=param_dist,\n",
    "    n_iter=20,                # try 20 random combos\n",
    "    scoring=\"roc_auc\",        # optimize AUC\n",
    "    cv=3,                     # 3‑fold CV on the training set\n",
    "    random_state=RANDOM_SEED,\n",
    "    verbose=1\n",
    ")\n",
    "\n",
    "# 3) Fit on the TRAIN split\n",
    "rand_search.fit(X_train, y_train)\n",
    "\n",
    "# 4) Inspect best results\n",
    "print(\"Best CV AUC:\", rand_search.best_score_)\n",
    "print(\"Best params:\", rand_search.best_params_)\n",
    "\n",
    "# 5) Evaluate on VALIDATION and TEST\n",
    "best_rf = rand_search.best_estimator_\n",
    "val_probs  = best_rf.predict_proba(X_val)[:,1]\n",
    "test_probs = best_rf.predict_proba(X_test)[:,1]\n",
    "print(\"Val AUC  =\", roc_auc_score(y_val,  val_probs))\n",
    "print(\"Test AUC =\", roc_auc_score(y_test, test_probs))\n"
   ]
  },
  {
   "cell_type": "code",
   "execution_count": null,
   "id": "70440e2f-a579-4c09-a325-31ecb726888f",
   "metadata": {},
   "outputs": [],
   "source": []
  }
 ],
 "metadata": {
  "kernelspec": {
   "display_name": "Python 3 (ipykernel)",
   "language": "python",
   "name": "python3"
  },
  "language_info": {
   "codemirror_mode": {
    "name": "ipython",
    "version": 3
   },
   "file_extension": ".py",
   "mimetype": "text/x-python",
   "name": "python",
   "nbconvert_exporter": "python",
   "pygments_lexer": "ipython3",
   "version": "3.13.1"
  }
 },
 "nbformat": 4,
 "nbformat_minor": 5
}
